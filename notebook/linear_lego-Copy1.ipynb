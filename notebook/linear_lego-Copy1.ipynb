{
 "cells": [
  {
   "cell_type": "markdown",
   "metadata": {},
   "source": [
    "# The Lego Collector's Dilemma  \n",
    "\n",
    "## Problem statement\n",
    "\n",
    "You are a die hard Lego enthusiast wishing to collect as many board sets as you can. But before that you wish to be able to predict the price of a new lego product before its price is revealed so that you can budget it from your revenue. Since (luckily!), you are a data scientist in the making, you wished to solve this problem yourself. This dataset contains information on lego sets scraped from lego.com. Each observation is a different lego set with various features like how many pieces in the set, rating for the set, number of reviews per set etc. Your aim is to build a linear regression model to predict the price of a set.\n",
    "\n",
    "\n",
    "## About the Dataset:\n",
    "The snapshot of the data, you will be working on :\n",
    "\n",
    "![Dataset](../images/lego_data.PNG)\n",
    "\n",
    "You can see that some of the features of `review_difficulty`, `theme_name` and `Country Name` in the data are textual in nature. Don't worry, we have made things simple for you with some behind-the-scenes data preprocessing.  We have also modified the feature of `age`. You will be learning about all these preprocessing techinques in a later concept. For now let us concentrate on getting those Lego sets in your hands soon. :) \n",
    "\n",
    "![Dataset](../images/new_le.png)\n",
    "\n",
    "\n",
    "The dataset has details of 9910 lego sets with the following 10 features\n",
    "\n",
    "|Feature|Description|\n",
    "|-----|-----|\n",
    "|age|Which age categories it belongs to|\n",
    "|list_price|price of the set (in $)|\n",
    "|num_reviews|number of reviews per set|\n",
    "|piece_count| number of pieces in that lego set|\n",
    "|play_star_rating|ratings|\n",
    "|review_difficulty|difficulty level of the set|\n",
    "|star_rating|ratings|\n",
    "|theme_name|which theme it belongs|\n",
    "|val_star_rating|ratings|\n",
    "|country|country name|\n",
    "\n",
    "\n",
    "\n",
    "\n",
    "\n",
    "\n",
    "\n",
    "\n"
   ]
  },
  {
   "cell_type": "markdown",
   "metadata": {},
   "source": [
    "## Outline\n",
    "\n",
    "Things we are gonna go over are\n",
    " - **Preparing the Data: ** This section will deal with things like importing the data onto python, visualizing some data values, and getting statistics of the Data.\n",
    " - **Train-Test Split: ** This section will deal with how to split up your data to Train and Test.\n",
    " - **Coding up the Model: ** In this section we will actually create the model, fit our Training Data on the model\n",
    " - **Results: ** In this section, we will use our model to make predictions on the Test Data, and evaluate its accuracy\n",
    " - **Extras: ** This section is for the Experimenter in you. This deals with extra stuff you could do.\n",
    " \n",
    "So lets get started!"
   ]
  },
  {
   "cell_type": "markdown",
   "metadata": {},
   "source": [
    "## Up and Running with Python Packages\n",
    "\n",
    "\n",
    "For the rest of the assignment we will be using various Python Packages, namely pandas, sklearn and matplotlib.\n",
    "You should install these packages if you don't already have them. For more on how to install packages in python, refer [this link](https://packaging.python.org/tutorials/installing-packages/)."
   ]
  },
  {
   "cell_type": "markdown",
   "metadata": {},
   "source": [
    "## Getting the Data Ready"
   ]
  },
  {
   "cell_type": "markdown",
   "metadata": {},
   "source": [
    "This is always the first step in any Machine Learning assignment, Get to **know** your data. This usually involves printing the Column Heads(First few values of every column) and plotting some of the values against others. Lets first import the data.\n",
    "We will use another Python Library to do this called [Pandas](https://pandas.pydata.org/)."
   ]
  },
  {
   "cell_type": "code",
   "execution_count": 62,
   "metadata": {},
   "outputs": [
    {
     "name": "stdout",
     "output_type": "stream",
     "text": [
      "Number of rows and columns in the data are  (12261, 10)\n"
     ]
    }
   ],
   "source": [
    "import pandas as pd #Importing the pandas package\n",
    "path=\"../data/\" #Setting up the data Directory\n",
    "data=pd.read_csv(path+\"lego_final.csv\") #Our Data is in a Comma Separated Values(CSV) file. We read from that using pd.read_csv()\n",
    "print(\"Number of rows and columns in the data are \", data.shape) #Print the shape of the imported data"
   ]
  },
  {
   "cell_type": "markdown",
   "metadata": {},
   "source": [
    "Lets see the Column Heads"
   ]
  },
  {
   "cell_type": "code",
   "execution_count": 63,
   "metadata": {},
   "outputs": [
    {
     "data": {
      "text/html": [
       "<div>\n",
       "<style scoped>\n",
       "    .dataframe tbody tr th:only-of-type {\n",
       "        vertical-align: middle;\n",
       "    }\n",
       "\n",
       "    .dataframe tbody tr th {\n",
       "        vertical-align: top;\n",
       "    }\n",
       "\n",
       "    .dataframe thead th {\n",
       "        text-align: right;\n",
       "    }\n",
       "</style>\n",
       "<table border=\"1\" class=\"dataframe\">\n",
       "  <thead>\n",
       "    <tr style=\"text-align: right;\">\n",
       "      <th></th>\n",
       "      <th>ages</th>\n",
       "      <th>list_price</th>\n",
       "      <th>num_reviews</th>\n",
       "      <th>piece_count</th>\n",
       "      <th>play_star_rating</th>\n",
       "      <th>review_difficulty</th>\n",
       "      <th>star_rating</th>\n",
       "      <th>theme_name</th>\n",
       "      <th>val_star_rating</th>\n",
       "      <th>country</th>\n",
       "    </tr>\n",
       "  </thead>\n",
       "  <tbody>\n",
       "    <tr>\n",
       "      <th>0</th>\n",
       "      <td>19</td>\n",
       "      <td>29.99</td>\n",
       "      <td>2</td>\n",
       "      <td>277</td>\n",
       "      <td>4.0</td>\n",
       "      <td>0</td>\n",
       "      <td>4.5</td>\n",
       "      <td>0</td>\n",
       "      <td>4.0</td>\n",
       "      <td>20</td>\n",
       "    </tr>\n",
       "    <tr>\n",
       "      <th>1</th>\n",
       "      <td>19</td>\n",
       "      <td>19.99</td>\n",
       "      <td>2</td>\n",
       "      <td>168</td>\n",
       "      <td>4.0</td>\n",
       "      <td>2</td>\n",
       "      <td>5.0</td>\n",
       "      <td>0</td>\n",
       "      <td>4.0</td>\n",
       "      <td>20</td>\n",
       "    </tr>\n",
       "    <tr>\n",
       "      <th>2</th>\n",
       "      <td>19</td>\n",
       "      <td>12.99</td>\n",
       "      <td>11</td>\n",
       "      <td>74</td>\n",
       "      <td>4.3</td>\n",
       "      <td>2</td>\n",
       "      <td>4.3</td>\n",
       "      <td>0</td>\n",
       "      <td>4.1</td>\n",
       "      <td>20</td>\n",
       "    </tr>\n",
       "    <tr>\n",
       "      <th>3</th>\n",
       "      <td>5</td>\n",
       "      <td>99.99</td>\n",
       "      <td>23</td>\n",
       "      <td>1032</td>\n",
       "      <td>3.6</td>\n",
       "      <td>0</td>\n",
       "      <td>4.6</td>\n",
       "      <td>1</td>\n",
       "      <td>4.3</td>\n",
       "      <td>20</td>\n",
       "    </tr>\n",
       "    <tr>\n",
       "      <th>4</th>\n",
       "      <td>5</td>\n",
       "      <td>79.99</td>\n",
       "      <td>14</td>\n",
       "      <td>744</td>\n",
       "      <td>3.2</td>\n",
       "      <td>1</td>\n",
       "      <td>4.6</td>\n",
       "      <td>1</td>\n",
       "      <td>4.1</td>\n",
       "      <td>20</td>\n",
       "    </tr>\n",
       "  </tbody>\n",
       "</table>\n",
       "</div>"
      ],
      "text/plain": [
       "   ages  list_price  num_reviews  piece_count  play_star_rating  \\\n",
       "0    19       29.99            2          277               4.0   \n",
       "1    19       19.99            2          168               4.0   \n",
       "2    19       12.99           11           74               4.3   \n",
       "3     5       99.99           23         1032               3.6   \n",
       "4     5       79.99           14          744               3.2   \n",
       "\n",
       "   review_difficulty  star_rating  theme_name  val_star_rating  country  \n",
       "0                  0          4.5           0              4.0       20  \n",
       "1                  2          5.0           0              4.0       20  \n",
       "2                  2          4.3           0              4.1       20  \n",
       "3                  0          4.6           1              4.3       20  \n",
       "4                  1          4.6           1              4.1       20  "
      ]
     },
     "execution_count": 63,
     "metadata": {},
     "output_type": "execute_result"
    }
   ],
   "source": [
    "data.head() #Print data head"
   ]
  },
  {
   "cell_type": "markdown",
   "metadata": {},
   "source": [
    "Lets now see some Statistics on our Data before applying any algorithms to it"
   ]
  },
  {
   "cell_type": "code",
   "execution_count": 64,
   "metadata": {},
   "outputs": [
    {
     "data": {
      "text/html": [
       "<div>\n",
       "<style scoped>\n",
       "    .dataframe tbody tr th:only-of-type {\n",
       "        vertical-align: middle;\n",
       "    }\n",
       "\n",
       "    .dataframe tbody tr th {\n",
       "        vertical-align: top;\n",
       "    }\n",
       "\n",
       "    .dataframe thead th {\n",
       "        text-align: right;\n",
       "    }\n",
       "</style>\n",
       "<table border=\"1\" class=\"dataframe\">\n",
       "  <thead>\n",
       "    <tr style=\"text-align: right;\">\n",
       "      <th></th>\n",
       "      <th>ages</th>\n",
       "      <th>list_price</th>\n",
       "      <th>num_reviews</th>\n",
       "      <th>piece_count</th>\n",
       "      <th>play_star_rating</th>\n",
       "      <th>review_difficulty</th>\n",
       "      <th>star_rating</th>\n",
       "      <th>theme_name</th>\n",
       "      <th>val_star_rating</th>\n",
       "      <th>country</th>\n",
       "    </tr>\n",
       "  </thead>\n",
       "  <tbody>\n",
       "    <tr>\n",
       "      <th>count</th>\n",
       "      <td>12261.00000</td>\n",
       "      <td>12261.000000</td>\n",
       "      <td>12261.000000</td>\n",
       "      <td>12261.000000</td>\n",
       "      <td>12261.000000</td>\n",
       "      <td>12261.000000</td>\n",
       "      <td>12261.000000</td>\n",
       "      <td>12261.000000</td>\n",
       "      <td>12261.000000</td>\n",
       "      <td>12261.000000</td>\n",
       "    </tr>\n",
       "    <tr>\n",
       "      <th>mean</th>\n",
       "      <td>16.68828</td>\n",
       "      <td>65.141998</td>\n",
       "      <td>14.603050</td>\n",
       "      <td>493.405921</td>\n",
       "      <td>3.709689</td>\n",
       "      <td>1.988826</td>\n",
       "      <td>3.917698</td>\n",
       "      <td>20.523367</td>\n",
       "      <td>3.609844</td>\n",
       "      <td>10.015333</td>\n",
       "    </tr>\n",
       "    <tr>\n",
       "      <th>std</th>\n",
       "      <td>8.21868</td>\n",
       "      <td>91.980429</td>\n",
       "      <td>34.356847</td>\n",
       "      <td>825.364580</td>\n",
       "      <td>1.641130</td>\n",
       "      <td>1.787565</td>\n",
       "      <td>1.603276</td>\n",
       "      <td>11.990176</td>\n",
       "      <td>1.614694</td>\n",
       "      <td>6.185450</td>\n",
       "    </tr>\n",
       "    <tr>\n",
       "      <th>min</th>\n",
       "      <td>0.00000</td>\n",
       "      <td>2.272400</td>\n",
       "      <td>0.000000</td>\n",
       "      <td>1.000000</td>\n",
       "      <td>0.000000</td>\n",
       "      <td>0.000000</td>\n",
       "      <td>0.000000</td>\n",
       "      <td>0.000000</td>\n",
       "      <td>0.000000</td>\n",
       "      <td>0.000000</td>\n",
       "    </tr>\n",
       "    <tr>\n",
       "      <th>25%</th>\n",
       "      <td>11.00000</td>\n",
       "      <td>19.990000</td>\n",
       "      <td>1.000000</td>\n",
       "      <td>97.000000</td>\n",
       "      <td>3.600000</td>\n",
       "      <td>0.000000</td>\n",
       "      <td>4.000000</td>\n",
       "      <td>9.000000</td>\n",
       "      <td>3.500000</td>\n",
       "      <td>4.000000</td>\n",
       "    </tr>\n",
       "    <tr>\n",
       "      <th>50%</th>\n",
       "      <td>19.00000</td>\n",
       "      <td>36.587800</td>\n",
       "      <td>4.000000</td>\n",
       "      <td>216.000000</td>\n",
       "      <td>4.400000</td>\n",
       "      <td>2.000000</td>\n",
       "      <td>4.600000</td>\n",
       "      <td>21.000000</td>\n",
       "      <td>4.200000</td>\n",
       "      <td>10.000000</td>\n",
       "    </tr>\n",
       "    <tr>\n",
       "      <th>75%</th>\n",
       "      <td>23.00000</td>\n",
       "      <td>70.192200</td>\n",
       "      <td>11.000000</td>\n",
       "      <td>544.000000</td>\n",
       "      <td>4.700000</td>\n",
       "      <td>4.000000</td>\n",
       "      <td>4.900000</td>\n",
       "      <td>34.000000</td>\n",
       "      <td>4.700000</td>\n",
       "      <td>15.000000</td>\n",
       "    </tr>\n",
       "    <tr>\n",
       "      <th>max</th>\n",
       "      <td>30.00000</td>\n",
       "      <td>1104.870000</td>\n",
       "      <td>367.000000</td>\n",
       "      <td>7541.000000</td>\n",
       "      <td>5.000000</td>\n",
       "      <td>5.000000</td>\n",
       "      <td>5.000000</td>\n",
       "      <td>40.000000</td>\n",
       "      <td>5.000000</td>\n",
       "      <td>20.000000</td>\n",
       "    </tr>\n",
       "  </tbody>\n",
       "</table>\n",
       "</div>"
      ],
      "text/plain": [
       "              ages    list_price   num_reviews   piece_count  \\\n",
       "count  12261.00000  12261.000000  12261.000000  12261.000000   \n",
       "mean      16.68828     65.141998     14.603050    493.405921   \n",
       "std        8.21868     91.980429     34.356847    825.364580   \n",
       "min        0.00000      2.272400      0.000000      1.000000   \n",
       "25%       11.00000     19.990000      1.000000     97.000000   \n",
       "50%       19.00000     36.587800      4.000000    216.000000   \n",
       "75%       23.00000     70.192200     11.000000    544.000000   \n",
       "max       30.00000   1104.870000    367.000000   7541.000000   \n",
       "\n",
       "       play_star_rating  review_difficulty   star_rating    theme_name  \\\n",
       "count      12261.000000       12261.000000  12261.000000  12261.000000   \n",
       "mean           3.709689           1.988826      3.917698     20.523367   \n",
       "std            1.641130           1.787565      1.603276     11.990176   \n",
       "min            0.000000           0.000000      0.000000      0.000000   \n",
       "25%            3.600000           0.000000      4.000000      9.000000   \n",
       "50%            4.400000           2.000000      4.600000     21.000000   \n",
       "75%            4.700000           4.000000      4.900000     34.000000   \n",
       "max            5.000000           5.000000      5.000000     40.000000   \n",
       "\n",
       "       val_star_rating       country  \n",
       "count     12261.000000  12261.000000  \n",
       "mean          3.609844     10.015333  \n",
       "std           1.614694      6.185450  \n",
       "min           0.000000      0.000000  \n",
       "25%           3.500000      4.000000  \n",
       "50%           4.200000     10.000000  \n",
       "75%           4.700000     15.000000  \n",
       "max           5.000000     20.000000  "
      ]
     },
     "execution_count": 64,
     "metadata": {},
     "output_type": "execute_result"
    }
   ],
   "source": [
    "data.describe() #Get some statistics on the data"
   ]
  },
  {
   "cell_type": "markdown",
   "metadata": {},
   "source": [
    "## Setting up Training and Testing Data"
   ]
  },
  {
   "cell_type": "markdown",
   "metadata": {},
   "source": [
    "Now that we have our data. Lets split up the Training and Testing parts. These terminologies, as their name suggests, are the Data Samples on which we **Train** and **Test** our Model. To draw some analogy, Think of the model as a student, Training Data as the questions in his/her Textbooks and the Test Data as the questions on his/her Exams. It is essential that Questions on Exam are different than those in his/her Textbook(Otherwise the Teacher won't be able to distinguish which set of students actually **learned** the material). The spliting of Training and Testing data can vary from Programmer to Programmer. We will split it as 80%, 20%. This means if we have 100 examples, then we will use 80 examples to come up with a hypothesis and we will use the 20 remaining examples to check how good is our hypothesis. It is also very important to shuffle the data before splitting it(Can you think why this is so?). We will use sklearn package to do all this.\n",
    "\n",
    "Also from now on Target will refer to the quantity we are trying to predict, and Features will be the quantities used to predict the target values. Target is also called the dependent Variable and Features are called the independent variables."
   ]
  },
  {
   "cell_type": "code",
   "execution_count": 67,
   "metadata": {},
   "outputs": [
    {
     "data": {
      "text/html": [
       "<div>\n",
       "<style scoped>\n",
       "    .dataframe tbody tr th:only-of-type {\n",
       "        vertical-align: middle;\n",
       "    }\n",
       "\n",
       "    .dataframe tbody tr th {\n",
       "        vertical-align: top;\n",
       "    }\n",
       "\n",
       "    .dataframe thead th {\n",
       "        text-align: right;\n",
       "    }\n",
       "</style>\n",
       "<table border=\"1\" class=\"dataframe\">\n",
       "  <thead>\n",
       "    <tr style=\"text-align: right;\">\n",
       "      <th></th>\n",
       "      <th>ages</th>\n",
       "      <th>num_reviews</th>\n",
       "      <th>piece_count</th>\n",
       "      <th>play_star_rating</th>\n",
       "      <th>review_difficulty</th>\n",
       "      <th>star_rating</th>\n",
       "      <th>theme_name</th>\n",
       "      <th>val_star_rating</th>\n",
       "      <th>country</th>\n",
       "    </tr>\n",
       "  </thead>\n",
       "  <tbody>\n",
       "    <tr>\n",
       "      <th>5326</th>\n",
       "      <td>13</td>\n",
       "      <td>0</td>\n",
       "      <td>178</td>\n",
       "      <td>0.0</td>\n",
       "      <td>5</td>\n",
       "      <td>0.0</td>\n",
       "      <td>21</td>\n",
       "      <td>0.0</td>\n",
       "      <td>7</td>\n",
       "    </tr>\n",
       "    <tr>\n",
       "      <th>7055</th>\n",
       "      <td>23</td>\n",
       "      <td>4</td>\n",
       "      <td>198</td>\n",
       "      <td>4.5</td>\n",
       "      <td>0</td>\n",
       "      <td>4.5</td>\n",
       "      <td>26</td>\n",
       "      <td>5.0</td>\n",
       "      <td>10</td>\n",
       "    </tr>\n",
       "    <tr>\n",
       "      <th>858</th>\n",
       "      <td>19</td>\n",
       "      <td>4</td>\n",
       "      <td>740</td>\n",
       "      <td>5.0</td>\n",
       "      <td>0</td>\n",
       "      <td>5.0</td>\n",
       "      <td>6</td>\n",
       "      <td>4.3</td>\n",
       "      <td>1</td>\n",
       "    </tr>\n",
       "    <tr>\n",
       "      <th>6189</th>\n",
       "      <td>16</td>\n",
       "      <td>7</td>\n",
       "      <td>310</td>\n",
       "      <td>4.4</td>\n",
       "      <td>2</td>\n",
       "      <td>4.7</td>\n",
       "      <td>6</td>\n",
       "      <td>4.7</td>\n",
       "      <td>9</td>\n",
       "    </tr>\n",
       "    <tr>\n",
       "      <th>10978</th>\n",
       "      <td>3</td>\n",
       "      <td>2</td>\n",
       "      <td>1</td>\n",
       "      <td>5.0</td>\n",
       "      <td>5</td>\n",
       "      <td>5.0</td>\n",
       "      <td>24</td>\n",
       "      <td>5.0</td>\n",
       "      <td>17</td>\n",
       "    </tr>\n",
       "  </tbody>\n",
       "</table>\n",
       "</div>"
      ],
      "text/plain": [
       "       ages  num_reviews  piece_count  play_star_rating  review_difficulty  \\\n",
       "5326     13            0          178               0.0                  5   \n",
       "7055     23            4          198               4.5                  0   \n",
       "858      19            4          740               5.0                  0   \n",
       "6189     16            7          310               4.4                  2   \n",
       "10978     3            2            1               5.0                  5   \n",
       "\n",
       "       star_rating  theme_name  val_star_rating  country  \n",
       "5326           0.0          21              0.0        7  \n",
       "7055           4.5          26              5.0       10  \n",
       "858            5.0           6              4.3        1  \n",
       "6189           4.7           6              4.7        9  \n",
       "10978          5.0          24              5.0       17  "
      ]
     },
     "execution_count": 67,
     "metadata": {},
     "output_type": "execute_result"
    }
   ],
   "source": [
    "from sklearn.utils import shuffle #Module to shuffle the data\n",
    "data=shuffle(data) #Shuffle the data\n",
    "X=data.drop(\"list_price\", axis=1) #Our features will include all columns except \"list_price\". So we drop it\n",
    "y=data[\"list_price\"] #Our Target is \"list_price\"\n",
    "X.head() #Print features head"
   ]
  },
  {
   "cell_type": "markdown",
   "metadata": {},
   "source": [
    "Now that we have our features(X) and our target(Y) Separated and Shuffled, Lets split them. "
   ]
  },
  {
   "cell_type": "code",
   "execution_count": 68,
   "metadata": {},
   "outputs": [
    {
     "name": "stdout",
     "output_type": "stream",
     "text": [
      "Shape of X_train is  (9808, 9)\n",
      "Shape of X_test is  (2453, 9)\n",
      "Shape of y_train is  (9808,)\n",
      "Shape of y_test is  (2453,)\n"
     ]
    }
   ],
   "source": [
    "from sklearn.model_selection import train_test_split #Module for spliting Training and Testing Data\n",
    "X_train, X_test, y_train, y_test = train_test_split(X, y, test_size=0.2) #Split using train_test_split\n",
    "print(\"Shape of X_train is \", X_train.shape) #Print shapes of the splits\n",
    "print(\"Shape of X_test is \", X_test.shape)\n",
    "print(\"Shape of y_train is \", y_train.shape)\n",
    "print(\"Shape of y_test is \", y_test.shape)"
   ]
  },
  {
   "cell_type": "markdown",
   "metadata": {},
   "source": [
    "## Let the Coding Begin!"
   ]
  },
  {
   "cell_type": "markdown",
   "metadata": {},
   "source": [
    "Now that we have prepared our Data, Lets make a model out of it. But First, \n",
    "\n",
    "What is **Supervised Learning**?\n",
    "\n",
    "Lets say there is a function $ f(x) $, \n",
    "and I am telling you that\n",
    "\n",
    "$ f(1) = 2 $\n",
    "\n",
    "$ f(2) = 3 $\n",
    "\n",
    "$ f(3) = 4 $\n",
    "\n",
    "$ ... $\n",
    "\n",
    "$ f(100) = 101 $\n",
    "\n",
    "Now if I ask you, What do you think will be the value of $ f(101) $? \n",
    "\n",
    "Most of you would say $ 102 $. \n",
    "\n",
    "What you did was you **approximated** $ f(x) $ as $ f(x) = x+1 $ .This is Supervised Learning. \n",
    "\n",
    "Or, as [Wikipedia](https://en.wikipedia.org/wiki/Supervised_learning) says\n",
    ">Supervised learning is the machine learning task of learning a function that maps an input to an output based on example input-output pairs\n",
    "\n",
    "The simplest class of functions is Linear functions.(*How complicated can straight lines get anyway?*)\n",
    "\n",
    "Therefore we will consider a Supervised Learning technique called **Linear Regression**.\n",
    "\n",
    "Linear Regression tries to **fit** the target as a Linear function of the features.\n",
    "\n",
    "Mathematically,\n",
    "\n",
    "$ h_\\theta(x) = \\theta_0 * x_0 + \\theta_1 * x_1 + \\theta_2 * x_2 + ...  + \\theta_n * x_n $\n",
    "\n",
    "$ x_0 = 1$\n",
    "\n",
    "In the above Example, we tried to fit $ f(x) = x + 1 $\n",
    "\n",
    "What is a **Cost Function**?\n",
    "\n",
    "Since we are only Trying to approximate the function, it must be a little off from the original value of the Target. Cost function is a function which measures this deviation. Since we would like our approximation to get as close to the actual values of the target, we would like to minimize the cost Function. \n",
    "\n",
    "Our **Cost function** will be,\n",
    "\n",
    "$ J(\\theta) = \\frac{1}{2m} \\sum_{i=1}^{m} (h_\\theta(x^{(i)}) - y^{(i)})^2 $\n",
    "\n",
    "i.e **Mean Squared Error**"
   ]
  },
  {
   "cell_type": "code",
   "execution_count": 69,
   "metadata": {},
   "outputs": [
    {
     "data": {
      "text/plain": [
       "LinearRegression(copy_X=True, fit_intercept=True, n_jobs=1, normalize=False)"
      ]
     },
     "execution_count": 69,
     "metadata": {},
     "output_type": "execute_result"
    }
   ],
   "source": [
    "from sklearn.linear_model import LinearRegression #Import the module for Linear Regression Model\n",
    "model=LinearRegression() # create a model instance\n",
    "model.fit(X_train, y_train) #fit the training values onto the model "
   ]
  },
  {
   "cell_type": "markdown",
   "metadata": {},
   "source": [
    "Although we let sklearn do all the work for us, What is happening behind the scenes is that sklearn is setting the parameters($ \\theta_i $) to some initial value.\n",
    "\n",
    "Now it is trying to find the best values of parameters(Such that the cost function for those parameters is close to its minimum value)\n",
    "\n",
    "One such algorithm is called **Gradient Descent**, the algorithm is\n",
    "\n",
    "repeat until convergence {\n",
    "\n",
    ">$ \\theta_j = \\theta_j - \\alpha \\frac{\\partial}{\\partial \\theta_j} J(\\theta) $\n",
    "\n",
    "}\n",
    "\n",
    "$ \\frac{\\partial}{\\partial \\theta_j} J(\\theta) = \\frac{1}{m} \\sum_{i=1}^{m} (h_\\theta(x^{(i)}) - y^{(i)}) x_j^{(i)} $\n",
    "\n"
   ]
  },
  {
   "cell_type": "markdown",
   "metadata": {},
   "source": [
    "## Report Card"
   ]
  },
  {
   "cell_type": "markdown",
   "metadata": {},
   "source": [
    "Now that we have successfully trained our model, Lets see how well we have done."
   ]
  },
  {
   "cell_type": "code",
   "execution_count": 70,
   "metadata": {},
   "outputs": [],
   "source": [
    "y_pred=model.predict(X_test) #Getting predictions on X_test"
   ]
  },
  {
   "cell_type": "code",
   "execution_count": 83,
   "metadata": {},
   "outputs": [
    {
     "name": "stdout",
     "output_type": "stream",
     "text": [
      "Mean Squared Error is  1744.3674819605085\n"
     ]
    }
   ],
   "source": [
    "from sklearn.metrics import mean_squared_error #import module for MSE(Mean Squared Error)\n",
    "print(\"Mean Squared Error is \", mean_squared_error(y_test, y_pred)) #print MSE"
   ]
  },
  {
   "cell_type": "code",
   "execution_count": 84,
   "metadata": {},
   "outputs": [
    {
     "name": "stdout",
     "output_type": "stream",
     "text": [
      "r-squared Score is  0.8240573151212669\n"
     ]
    }
   ],
   "source": [
    "from sklearn.metrics import r2_score #import module for r-squared score\n",
    "print(\"r-squared Score is \", r2_score(y_test, y_pred)) #print r-squared score"
   ]
  },
  {
   "cell_type": "markdown",
   "metadata": {},
   "source": [
    "r-squared is a test of how good the model is performing. More is the value, better is the model. The max value of r-squared is 1. \n",
    "\n",
    "Not bad! Given the simplicity of the model.\n",
    "\n",
    "Now lets see the Parameters our Model Learned.\n",
    "The $ \\theta_1, \\theta_2, ... \\theta_n $ are"
   ]
  },
  {
   "cell_type": "code",
   "execution_count": 73,
   "metadata": {},
   "outputs": [
    {
     "data": {
      "text/plain": [
       "array([ -0.81788111,  -0.0957047 ,   0.09726901,  16.67649675,\n",
       "        -3.15059508,  -1.43595711,   0.42978446, -19.06275495,\n",
       "         0.18607391])"
      ]
     },
     "execution_count": 73,
     "metadata": {},
     "output_type": "execute_result"
    }
   ],
   "source": [
    "model.coef_ #print model parameteres"
   ]
  },
  {
   "cell_type": "markdown",
   "metadata": {},
   "source": [
    "The intercept or $ \\theta_0 $ is"
   ]
  },
  {
   "cell_type": "code",
   "execution_count": 74,
   "metadata": {},
   "outputs": [
    {
     "data": {
      "text/plain": [
       "40.32284790554981"
      ]
     },
     "execution_count": 74,
     "metadata": {},
     "output_type": "execute_result"
    }
   ],
   "source": [
    "model.intercept_ #print model intercept"
   ]
  },
  {
   "cell_type": "markdown",
   "metadata": {},
   "source": [
    "## Lets Plot the Results"
   ]
  },
  {
   "cell_type": "code",
   "execution_count": 82,
   "metadata": {},
   "outputs": [
    {
     "data": {
      "image/png": "[encoded data removed]",
      "text/plain": [
       "<matplotlib.figure.Figure at 0x1a26cb43978>"
      ]
     },
     "metadata": {},
     "output_type": "display_data"
    }
   ],
   "source": [
    "import matplotlib.pyplot as plt #import module to plot the values\n",
    "%matplotlib inline\n",
    "fig, ax = plt.subplots()\n",
    "ax.scatter(y_test, y_pred, edgecolors=(0, 0, 0))\n",
    "ax.plot([y_test.min(), y_test.max()], [y_test.min(), y_test.max()], 'k--', lw=4)\n",
    "ax.set_xlabel('Measured')\n",
    "ax.set_ylabel('Predicted')\n",
    "plt.show()"
   ]
  },
  {
   "cell_type": "markdown",
   "metadata": {},
   "source": [
    "## What's Next?"
   ]
  },
  {
   "cell_type": "markdown",
   "metadata": {},
   "source": [
    "You have made a basic Machine Learning model. Yay!\n",
    "\n",
    "But an r-squared score of 0.82 doesn't guarantee that you will be able to buy all the Lego sets! \n",
    "\n",
    "Things you could try\n",
    "\n",
    " - Change the train, test split (70, 30 for example) and note changes in accuracy\n",
    " \n",
    " - Try getting [Correlations](https://www.datascience.com/learn-data-science/fundamentals/introduction-to-correlation-python-data-science) among columns in X and target(Y) . For example,Intutively I dont think num_reviews has a lot of dependance on the price. So deleting features like these can help increase the accuracy of our model.\n",
    " \n",
    " - [Feature Engineering](https://en.wikipedia.org/wiki/Feature_engineering) Maybe price depends more on the square of piece_count rather than the value of piece_count. Try squaring a few columns and see the changes in the accuracy. This is called **Polynomial Regression**.\n",
    " \n",
    " - [Data Preprocessing](http://scikit-learn.org/stable/modules/preprocessing.html) Try methods like **Feature Scaling** and **Mean Normalization**\n",
    " \n",
    " - Read up about [Regularization](https://www.quora.com/What-is-regularization-in-machine-learning) and try using the [RidgeRegressor()](http://scikit-learn.org/stable/modules/linear_model.html#ridge-regression) instead of Linear Regression\n",
    " \n",
    " - If you are comfortable enough with Python and Linear Algebra and Multivariable Calculus then you can code up a Linear Regressor from Scratch. Implement the Gradient Descent algorithm and try Experimenting with things like Learning Rate, and No. of Iterations.\n",
    " \n",
    "**Note :**  A Python package called **NumPy** might turn out to be very useful to clear these extra tasks. Here is a good [tutorial](http://cs231n.github.io/python-numpy-tutorial/) on NumPy to get you started. \n",
    "\n",
    "Happy Machine Learning!!"
   ]
  }
 ],
 "metadata": {
  "kernelspec": {
   "display_name": "Python 3",
   "language": "python",
   "name": "python3"
  },
  "language_info": {
   "codemirror_mode": {
    "name": "ipython",
    "version": 3
   },
   "file_extension": ".py",
   "mimetype": "text/x-python",
   "name": "python",
   "nbconvert_exporter": "python",
   "pygments_lexer": "ipython3",
   "version": "3.6.4rc1"
  }
 },
 "nbformat": 4,
 "nbformat_minor": 2
}
